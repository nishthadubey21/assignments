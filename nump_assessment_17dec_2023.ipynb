{
 "cells": [
  {
   "cell_type": "markdown",
   "id": "8ceb048d",
   "metadata": {},
   "source": [
    "1. Write a function, foo_1, that takes a NumPy array `arr` and returns the indices of the elements that are closest to a given target. If target is not in the given array, it should return ‘no item found’"
   ]
  },
  {
   "cell_type": "code",
   "execution_count": 1,
   "id": "c9b39292",
   "metadata": {},
   "outputs": [],
   "source": [
    "import numpy as np"
   ]
  },
  {
   "cell_type": "code",
   "execution_count": 8,
   "id": "3646d1ed",
   "metadata": {},
   "outputs": [],
   "source": [
    "def foo_1(a, target):\n",
    "    y = abs(target - a)\n",
    "    if target in a:\n",
    "        print(np.argsort(y))\n",
    "    else:\n",
    "        print('no item found')\n",
    "    "
   ]
  },
  {
   "cell_type": "code",
   "execution_count": 13,
   "id": "7ac167cd",
   "metadata": {},
   "outputs": [
    {
     "name": "stdout",
     "output_type": "stream",
     "text": [
      "no item found\n"
     ]
    }
   ],
   "source": [
    "foo_1(np.array([3, 8, 7, 7, 7, 7, 7, 8, 7, 10]), 11)"
   ]
  },
  {
   "cell_type": "markdown",
   "id": "2da61311",
   "metadata": {},
   "source": [
    "2. Write a user defined function foo_2 that takes a  2,3 dim NumPy array arr and returns a new n-1 dim array, where each element is replaced by the count of non-zero elements wrt axis."
   ]
  },
  {
   "cell_type": "code",
   "execution_count": null,
   "id": "4757d7cf",
   "metadata": {},
   "outputs": [],
   "source": [
    "arr1 = np.array([[1, 2, 3, 4],\n",
    "                [0, 5, 0, 0],\n",
    "                [2, 0, 1, 0]])"
   ]
  },
  {
   "cell_type": "code",
   "execution_count": 39,
   "id": "5e27ddb4",
   "metadata": {},
   "outputs": [
    {
     "name": "stdout",
     "output_type": "stream",
     "text": [
      "[2 2 2 1]\n",
      "[4 1 2]\n"
     ]
    }
   ],
   "source": [
    "def foo_2(a):\n",
    "    counter = 0\n",
    "    for i in a:\n",
    "        if i!=0:\n",
    "            counter+=1\n",
    "    return counter"
   ]
  },
  {
   "cell_type": "code",
   "execution_count": 40,
   "id": "0ceb7b4a",
   "metadata": {},
   "outputs": [
    {
     "name": "stdout",
     "output_type": "stream",
     "text": [
      "[2 2 2 1]\n"
     ]
    }
   ],
   "source": [
    "print(np.apply_along_axis(foo_2, axis = 0, arr = arr1))"
   ]
  },
  {
   "cell_type": "code",
   "execution_count": 41,
   "id": "3333efc4",
   "metadata": {},
   "outputs": [
    {
     "name": "stdout",
     "output_type": "stream",
     "text": [
      "[4 1 2]\n"
     ]
    }
   ],
   "source": [
    "print(np.apply_along_axis(foo_2, axis = 1, arr = arr1))"
   ]
  },
  {
   "cell_type": "code",
   "execution_count": 43,
   "id": "f785829d",
   "metadata": {},
   "outputs": [],
   "source": [
    "arr2 = np.array([[[1, 2, 3, 4],\n",
    "                [0, 5, 0, 0],\n",
    "                [2, 0, 1, 0]],\n",
    "\n",
    "                [[2, 0, 1, 0],\n",
    "                 [0, 5, 0, 0],\n",
    "                 [1, 2, 3, 4]]])\n"
   ]
  },
  {
   "cell_type": "code",
   "execution_count": 44,
   "id": "2c2d648e",
   "metadata": {},
   "outputs": [
    {
     "name": "stdout",
     "output_type": "stream",
     "text": [
      "[[2 1 2 1]\n",
      " [0 2 0 0]\n",
      " [2 1 2 1]]\n"
     ]
    }
   ],
   "source": [
    "print(np.apply_along_axis(foo_2, axis = 0, arr = arr2))"
   ]
  },
  {
   "cell_type": "code",
   "execution_count": 45,
   "id": "10bd50ea",
   "metadata": {},
   "outputs": [
    {
     "name": "stdout",
     "output_type": "stream",
     "text": [
      "[[2 2 2 1]\n",
      " [2 2 2 1]]\n"
     ]
    }
   ],
   "source": [
    "print(np.apply_along_axis(foo_2, axis = 1, arr = arr2))"
   ]
  },
  {
   "cell_type": "code",
   "execution_count": 46,
   "id": "ac26b835",
   "metadata": {},
   "outputs": [
    {
     "name": "stdout",
     "output_type": "stream",
     "text": [
      "[[4 1 2]\n",
      " [2 1 4]]\n"
     ]
    }
   ],
   "source": [
    "print(np.apply_along_axis(foo_2, axis = 2, arr = arr2))"
   ]
  },
  {
   "cell_type": "markdown",
   "id": "558ad7c1",
   "metadata": {},
   "source": [
    "3.1 You are given a 2D NumPy array of data representing student scores. Each row represents a student, and each column represents a subject. Extract the scores of all students who scored above 90 in at least one subject. Provide the resulting array."
   ]
  },
  {
   "cell_type": "code",
   "execution_count": 47,
   "id": "2ffca765",
   "metadata": {},
   "outputs": [],
   "source": [
    "array1 = np.array([[85, 89, 88],\n",
    "                  [78, 89, 94],\n",
    "                  [91, 87, 90],\n",
    "                  [87, 95, 84]])"
   ]
  },
  {
   "cell_type": "code",
   "execution_count": 62,
   "id": "f8a39e99",
   "metadata": {},
   "outputs": [],
   "source": [
    "def foo_3(a):\n",
    "    x = np.where(a > 90)[0]\n",
    "    if len(x) > 0:\n",
    "        print(a, end=\"\\n\\n\")"
   ]
  },
  {
   "cell_type": "code",
   "execution_count": 65,
   "id": "3171d111",
   "metadata": {},
   "outputs": [
    {
     "name": "stdout",
     "output_type": "stream",
     "text": [
      "[78 89 94]\n",
      "\n",
      "[91 87 90]\n",
      "\n",
      "[87 95 84]\n",
      "\n"
     ]
    }
   ],
   "source": [
    "x = np.apply_along_axis(foo_3, axis=1, arr=array1)"
   ]
  },
  {
   "cell_type": "markdown",
   "id": "a2c38a11",
   "metadata": {},
   "source": [
    "3.2 You are provided with a 2D NumPy array of data representing sales data for different products. Each row corresponds to a product, and each column represents the monthly sales for a specific month. Calculate the following statistics for each product: mean, median, standard deviation, and the month with the highest sales."
   ]
  },
  {
   "cell_type": "code",
   "execution_count": 75,
   "id": "82c68875",
   "metadata": {},
   "outputs": [],
   "source": [
    "a = np.array([[120, 150, 130, 110],\n",
    "              [200, 180, 220, 250],\n",
    "              [90, 100, 95, 110],\n",
    "              [300, 280, 320, 340]])"
   ]
  },
  {
   "cell_type": "code",
   "execution_count": 72,
   "id": "128496ac",
   "metadata": {},
   "outputs": [
    {
     "name": "stdout",
     "output_type": "stream",
     "text": [
      "Mean of product A 127.5\n",
      "Median of product A 125.0\n",
      "Standard deviation of product A 14.79019945774904\n",
      "Highest sale 150\n"
     ]
    }
   ],
   "source": [
    "prodA = a[0]\n",
    "print('Mean of product A',np.mean(prodA))\n",
    "print('Median of product A',np.median(prodA))\n",
    "print('Standard deviation of product A',np.std(prodA))\n",
    "print('Highest sale',np.max(prodA))"
   ]
  },
  {
   "cell_type": "code",
   "execution_count": 91,
   "id": "24c7d1e6",
   "metadata": {},
   "outputs": [],
   "source": [
    "def clculate(a):\n",
    "    counter=1\n",
    "    for i in a:\n",
    "        print(f'Mean of product {counter} : {np.mean(i)}')\n",
    "        print(f'Median of product {counter}: {np.median(i)}')\n",
    "        print(f'Standard deviation of product {counter}: {np.std(i)}')\n",
    "        print(f'Highest sale {counter}: {np.max(i)}')\n",
    "        print(end='\\n\\n')\n",
    "        counter+=1"
   ]
  },
  {
   "cell_type": "code",
   "execution_count": 92,
   "id": "172aeb9f",
   "metadata": {},
   "outputs": [
    {
     "name": "stdout",
     "output_type": "stream",
     "text": [
      "Mean of product 1 : 127.5\n",
      "Median of product 1: 125.0\n",
      "Standard deviation of product 1: 14.79019945774904\n",
      "Highest sale 1: 150\n",
      "\n",
      "\n",
      "Mean of product 2 : 212.5\n",
      "Median of product 2: 210.0\n",
      "Standard deviation of product 2: 25.8602010819715\n",
      "Highest sale 2: 250\n",
      "\n",
      "\n",
      "Mean of product 3 : 98.75\n",
      "Median of product 3: 97.5\n",
      "Standard deviation of product 3: 7.39509972887452\n",
      "Highest sale 3: 110\n",
      "\n",
      "\n",
      "Mean of product 4 : 310.0\n",
      "Median of product 4: 310.0\n",
      "Standard deviation of product 4: 22.360679774997898\n",
      "Highest sale 4: 340\n",
      "\n",
      "\n"
     ]
    }
   ],
   "source": [
    "clculate(a)"
   ]
  },
  {
   "cell_type": "markdown",
   "id": "ed128966",
   "metadata": {},
   "source": [
    "3.3 Create a NumPy array of size 1000 with random integers between 1 and 100. Then, use NumPy functions to find the top 10 most frequently occurring values in the array."
   ]
  },
  {
   "cell_type": "code",
   "execution_count": 166,
   "id": "9ed40862",
   "metadata": {},
   "outputs": [],
   "source": [
    "A = np.random.randint(1,100,1000)"
   ]
  },
  {
   "cell_type": "code",
   "execution_count": 167,
   "id": "6c40f93b",
   "metadata": {},
   "outputs": [
    {
     "data": {
      "text/plain": [
       "(array([ 1,  2,  3,  4,  5,  6,  7,  8,  9, 10, 11, 12, 13, 14, 15, 16, 17,\n",
       "        18, 19, 20, 21, 22, 23, 24, 25, 26, 27, 28, 29, 30, 31, 32, 33, 34,\n",
       "        35, 36, 37, 38, 39, 40, 41, 42, 43, 44, 45, 46, 47, 48, 49, 50, 51,\n",
       "        52, 53, 54, 55, 56, 57, 58, 59, 60, 61, 62, 63, 64, 65, 66, 67, 68,\n",
       "        69, 70, 71, 72, 73, 74, 75, 76, 77, 78, 79, 80, 81, 82, 83, 84, 85,\n",
       "        86, 87, 88, 89, 90, 91, 92, 93, 94, 95, 96, 97, 98, 99]),\n",
       " array([10,  8, 10,  8,  9, 11,  9, 13, 10, 13, 13, 14,  9,  5, 11, 11, 11,\n",
       "         7,  6, 15,  7,  8, 12,  9,  9, 13,  9, 12,  6, 13, 13,  9,  8, 15,\n",
       "         8,  7,  9, 10, 11, 14, 10,  9, 16, 16,  9,  5,  7, 13, 13, 16, 11,\n",
       "         8, 11, 14,  7, 15,  9, 15,  8,  9,  9,  9,  8,  9,  7,  9, 12, 11,\n",
       "         7, 11,  6, 11, 15, 10,  9,  9,  4,  7,  6,  9,  9, 10,  6, 12, 10,\n",
       "        14,  8,  7,  9, 10, 11, 11, 11,  8, 16,  8, 12, 12, 12]))"
      ]
     },
     "execution_count": 167,
     "metadata": {},
     "output_type": "execute_result"
    }
   ],
   "source": [
    "np.sort(A)[::-1]\n",
    "v, c = np.unique(A, return_counts=True)\n",
    "v, c"
   ]
  },
  {
   "cell_type": "code",
   "execution_count": 168,
   "id": "d6930bf8",
   "metadata": {},
   "outputs": [
    {
     "data": {
      "text/plain": [
       "array([49, 94, 42, 43, 33, 19, 57, 55, 72, 11, 39, 53, 85, 47, 29, 30, 25,\n",
       "       48, 10,  9,  7, 83, 97, 27, 96, 66, 98, 22, 52, 50, 92, 91, 90, 14,\n",
       "       15, 16,  5, 38, 71, 69, 67, 73,  0, 40, 37,  8, 84, 89,  2, 81, 65,\n",
       "       63,  6, 75, 26, 79, 80,  4, 88, 74, 61, 24, 59, 23, 31, 36, 60, 44,\n",
       "       41, 56, 12,  1, 95, 93, 58, 32, 21, 34, 86,  3, 62, 51, 20, 46, 64,\n",
       "       54, 87, 17, 35, 68, 77, 18, 78, 28, 82, 70, 45, 13, 76])"
      ]
     },
     "execution_count": 168,
     "metadata": {},
     "output_type": "execute_result"
    }
   ],
   "source": [
    "x = np.argsort(-c)\n",
    "x"
   ]
  },
  {
   "cell_type": "code",
   "execution_count": 169,
   "id": "4ee9ba79",
   "metadata": {},
   "outputs": [
    {
     "name": "stdout",
     "output_type": "stream",
     "text": [
      "50 occures 16 times\n",
      "95 occures 16 times\n",
      "43 occures 16 times\n",
      "44 occures 16 times\n",
      "34 occures 15 times\n",
      "20 occures 15 times\n",
      "58 occures 15 times\n",
      "56 occures 15 times\n",
      "73 occures 15 times\n",
      "12 occures 14 times\n"
     ]
    }
   ],
   "source": [
    "for i in x[:10]:\n",
    "    print(f'{v[i]} occures {c[i]} times')"
   ]
  },
  {
   "cell_type": "code",
   "execution_count": null,
   "id": "4fc0c8d8",
   "metadata": {},
   "outputs": [],
   "source": []
  }
 ],
 "metadata": {
  "kernelspec": {
   "display_name": "Python 3 (ipykernel)",
   "language": "python",
   "name": "python3"
  },
  "language_info": {
   "codemirror_mode": {
    "name": "ipython",
    "version": 3
   },
   "file_extension": ".py",
   "mimetype": "text/x-python",
   "name": "python",
   "nbconvert_exporter": "python",
   "pygments_lexer": "ipython3",
   "version": "3.11.5"
  }
 },
 "nbformat": 4,
 "nbformat_minor": 5
}
