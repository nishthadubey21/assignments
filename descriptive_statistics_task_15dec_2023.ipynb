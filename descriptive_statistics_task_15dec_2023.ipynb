{
 "cells": [
  {
   "cell_type": "code",
   "execution_count": 1,
   "id": "d54668e5",
   "metadata": {},
   "outputs": [],
   "source": [
    "import numpy as np"
   ]
  },
  {
   "cell_type": "code",
   "execution_count": 3,
   "id": "d239a0bc",
   "metadata": {},
   "outputs": [
    {
     "data": {
      "text/plain": [
       "array([[ 0., 25., 40.],\n",
       "       [ 1., 30., 35.],\n",
       "       [ 2., 28., 38.],\n",
       "       [ 3., 32., 41.],\n",
       "       [ 4., 26., 37.],\n",
       "       [ 5., 29., 36.],\n",
       "       [ 6., 27., 39.],\n",
       "       [ 7., 33., 42.],\n",
       "       [ 8., 31., 38.],\n",
       "       [ 9., 28., 37.],\n",
       "       [10., 30., 40.],\n",
       "       [11., 29., 36.]])"
      ]
     },
     "execution_count": 3,
     "metadata": {},
     "output_type": "execute_result"
    }
   ],
   "source": [
    "a = np.genfromtxt(r'/Users/sumitdubey/Desktop/Sample_data.csv', delimiter = ',', skip_header = 1)\n",
    "a"
   ]
  },
  {
   "cell_type": "markdown",
   "id": "92e0d92a",
   "metadata": {},
   "source": [
    "1. Calculate the mean sales for Product A and Product B. Compare the average monthly sales for the two products and discuss any observed trends."
   ]
  },
  {
   "cell_type": "code",
   "execution_count": 8,
   "id": "e01f9493",
   "metadata": {},
   "outputs": [
    {
     "data": {
      "text/plain": [
       "29.0"
      ]
     },
     "execution_count": 8,
     "metadata": {},
     "output_type": "execute_result"
    }
   ],
   "source": [
    "A = a[:,1]\n",
    "np.mean(A)"
   ]
  },
  {
   "cell_type": "code",
   "execution_count": 9,
   "id": "4264f5bd",
   "metadata": {},
   "outputs": [
    {
     "data": {
      "text/plain": [
       "38.25"
      ]
     },
     "execution_count": 9,
     "metadata": {},
     "output_type": "execute_result"
    }
   ],
   "source": [
    "B = a[:,2]\n",
    "np.mean(B)"
   ]
  },
  {
   "cell_type": "markdown",
   "id": "139e0ea8",
   "metadata": {},
   "source": [
    "* Hence the avg mean of product A is 29 and product B is 38.25. \n",
    "* So product B has avg monthly sale higher than product A."
   ]
  },
  {
   "cell_type": "markdown",
   "id": "e5cab9f8",
   "metadata": {},
   "source": [
    "2. Find the median sales for each product and discuss how it reflects the central tendency of the sales distribution.\n"
   ]
  },
  {
   "cell_type": "code",
   "execution_count": 10,
   "id": "33e1cbf9",
   "metadata": {},
   "outputs": [
    {
     "data": {
      "text/plain": [
       "array([25., 26., 27., 28., 28., 29., 29., 30., 30., 31., 32., 33.])"
      ]
     },
     "execution_count": 10,
     "metadata": {},
     "output_type": "execute_result"
    }
   ],
   "source": [
    "np.sort(A)"
   ]
  },
  {
   "cell_type": "code",
   "execution_count": 11,
   "id": "055a6f24",
   "metadata": {},
   "outputs": [
    {
     "data": {
      "text/plain": [
       "29.0"
      ]
     },
     "execution_count": 11,
     "metadata": {},
     "output_type": "execute_result"
    }
   ],
   "source": [
    "np.median(A)"
   ]
  },
  {
   "cell_type": "code",
   "execution_count": 12,
   "id": "4a663857",
   "metadata": {},
   "outputs": [
    {
     "data": {
      "text/plain": [
       "38.0"
      ]
     },
     "execution_count": 12,
     "metadata": {},
     "output_type": "execute_result"
    }
   ],
   "source": [
    "np.median(B)"
   ]
  },
  {
   "cell_type": "markdown",
   "id": "1bd7cdb3",
   "metadata": {},
   "source": [
    "* Median of product A is 29 and product B is 38.\n",
    "* the median supports the observation that Product B tends to have higher monthly sales compared to Product A, emphasizing the central tendency of the sales distribution."
   ]
  },
  {
   "cell_type": "markdown",
   "id": "042af805",
   "metadata": {},
   "source": [
    "3. Identify the mode of the sales data for both Product A and Product B. Discuss the significance of the mode in the context of these products."
   ]
  },
  {
   "cell_type": "code",
   "execution_count": 14,
   "id": "ee32f6dc",
   "metadata": {},
   "outputs": [
    {
     "data": {
      "text/plain": [
       "array([25., 26., 27., 28., 28., 29., 29., 30., 30., 31., 32., 33.])"
      ]
     },
     "execution_count": 14,
     "metadata": {},
     "output_type": "execute_result"
    }
   ],
   "source": [
    "np.sort(A)"
   ]
  },
  {
   "cell_type": "code",
   "execution_count": 15,
   "id": "dd4601a5",
   "metadata": {},
   "outputs": [
    {
     "data": {
      "text/plain": [
       "array([35., 36., 36., 37., 37., 38., 38., 39., 40., 40., 41., 42.])"
      ]
     },
     "execution_count": 15,
     "metadata": {},
     "output_type": "execute_result"
    }
   ],
   "source": [
    "np.sort(B)"
   ]
  },
  {
   "cell_type": "markdown",
   "id": "825a38e0",
   "metadata": {},
   "source": [
    "* Mode of product A is 28, 29 and 30.\n",
    "* Mode of product B is 36, 37, 38 and 40."
   ]
  },
  {
   "cell_type": "markdown",
   "id": "a1ec072c",
   "metadata": {},
   "source": [
    "4. Calculate the weighted mean of the sales data, assuming each month has an equal weight. Discuss any implications of using weighted mean in this context."
   ]
  },
  {
   "cell_type": "markdown",
   "id": "83bc6e3b",
   "metadata": {},
   "source": [
    "* Weight mean formula"
   ]
  },
  {
   "attachments": {
    "1_MdmZozmHQLbhbe9aqqFL2Q.png": {
     "image/png": "[encoded data removed]"
    }
   },
   "cell_type": "markdown",
   "id": "3cf54a85",
   "metadata": {},
   "source": [
    "![1_MdmZozmHQLbhbe9aqqFL2Q.png](attachment:1_MdmZozmHQLbhbe9aqqFL2Q.png)"
   ]
  },
  {
   "cell_type": "code",
   "execution_count": 19,
   "id": "20850c89",
   "metadata": {},
   "outputs": [
    {
     "data": {
      "text/plain": [
       "array([[ 0., 25., 40.],\n",
       "       [ 1., 30., 35.],\n",
       "       [ 2., 28., 38.],\n",
       "       [ 3., 32., 41.],\n",
       "       [ 4., 26., 37.],\n",
       "       [ 5., 29., 36.],\n",
       "       [ 6., 27., 39.],\n",
       "       [ 7., 33., 42.],\n",
       "       [ 8., 31., 38.],\n",
       "       [ 9., 28., 37.],\n",
       "       [10., 30., 40.],\n",
       "       [11., 29., 36.]])"
      ]
     },
     "execution_count": 19,
     "metadata": {},
     "output_type": "execute_result"
    }
   ],
   "source": []
  },
  {
   "cell_type": "code",
   "execution_count": 37,
   "id": "60c86fe9",
   "metadata": {},
   "outputs": [
    {
     "data": {
      "text/plain": [
       "29.0"
      ]
     },
     "execution_count": 37,
     "metadata": {},
     "output_type": "execute_result"
    }
   ],
   "source": [
    "w = [1] * 12\n",
    "zz = w * A\n",
    "weighted_mean = sum(zz)/sum(w)\n",
    "weighted_mean"
   ]
  },
  {
   "cell_type": "code",
   "execution_count": 38,
   "id": "e37fe417",
   "metadata": {},
   "outputs": [
    {
     "data": {
      "text/plain": [
       "38.25"
      ]
     },
     "execution_count": 38,
     "metadata": {},
     "output_type": "execute_result"
    }
   ],
   "source": [
    "w = [1] * 12\n",
    "zz = w * B\n",
    "weighted_mean = sum(zz)/sum(w)\n",
    "weighted_mean"
   ]
  },
  {
   "cell_type": "markdown",
   "id": "bc443fb3",
   "metadata": {},
   "source": [
    "* weighted mean for products A and B is 29 and 38.25 resp."
   ]
  },
  {
   "cell_type": "markdown",
   "id": "03855fe5",
   "metadata": {},
   "source": [
    "5. Compute the range of monthly sales for both Product A and Product B. Discuss how the range provides insights into the variability of sales.\n"
   ]
  },
  {
   "cell_type": "code",
   "execution_count": 39,
   "id": "6aa8f148",
   "metadata": {},
   "outputs": [
    {
     "data": {
      "text/plain": [
       "array([25., 26., 27., 28., 28., 29., 29., 30., 30., 31., 32., 33.])"
      ]
     },
     "execution_count": 39,
     "metadata": {},
     "output_type": "execute_result"
    }
   ],
   "source": [
    "np.sort(A)"
   ]
  },
  {
   "cell_type": "code",
   "execution_count": 40,
   "id": "e1a212bf",
   "metadata": {},
   "outputs": [
    {
     "data": {
      "text/plain": [
       "8.0"
      ]
     },
     "execution_count": 40,
     "metadata": {},
     "output_type": "execute_result"
    }
   ],
   "source": [
    "np.max(A)-np.min(A)"
   ]
  },
  {
   "cell_type": "code",
   "execution_count": 41,
   "id": "de551120",
   "metadata": {},
   "outputs": [
    {
     "data": {
      "text/plain": [
       "7.0"
      ]
     },
     "execution_count": 41,
     "metadata": {},
     "output_type": "execute_result"
    }
   ],
   "source": [
    "np.max(B)-np.min(B)"
   ]
  },
  {
   "cell_type": "markdown",
   "id": "5790b789",
   "metadata": {},
   "source": [
    "* range of product A is 8 and B is 7."
   ]
  },
  {
   "cell_type": "markdown",
   "id": "d39d44b8",
   "metadata": {},
   "source": [
    "6. Calculate the variance of the sales data for both products. Discuss what the variance reveals about the spread of sales for each product.\n",
    "\n",
    "\n"
   ]
  },
  {
   "cell_type": "code",
   "execution_count": 42,
   "id": "12dc6b93",
   "metadata": {},
   "outputs": [
    {
     "data": {
      "text/plain": [
       "5.166666666666667"
      ]
     },
     "execution_count": 42,
     "metadata": {},
     "output_type": "execute_result"
    }
   ],
   "source": [
    "np.var(A)"
   ]
  },
  {
   "cell_type": "code",
   "execution_count": 44,
   "id": "59fdc785",
   "metadata": {},
   "outputs": [
    {
     "data": {
      "text/plain": [
       "4.354166666666667"
      ]
     },
     "execution_count": 44,
     "metadata": {},
     "output_type": "execute_result"
    }
   ],
   "source": [
    "np.var(B)"
   ]
  },
  {
   "cell_type": "markdown",
   "id": "7ceb30bc",
   "metadata": {},
   "source": [
    "* Variance of product A is 5.166666666666667 and product B is 4.354166666666667."
   ]
  },
  {
   "cell_type": "markdown",
   "id": "a90e788a",
   "metadata": {},
   "source": [
    "7. Determine the standard deviation of the sales for Product A and Product B. Discuss the significance of standard deviation in understanding the variability in sales.\n",
    "\n"
   ]
  },
  {
   "cell_type": "code",
   "execution_count": 45,
   "id": "6f40a0d1",
   "metadata": {},
   "outputs": [
    {
     "data": {
      "text/plain": [
       "2.273030282830976"
      ]
     },
     "execution_count": 45,
     "metadata": {},
     "output_type": "execute_result"
    }
   ],
   "source": [
    "np.std(A)"
   ]
  },
  {
   "cell_type": "code",
   "execution_count": 46,
   "id": "0599929e",
   "metadata": {},
   "outputs": [
    {
     "data": {
      "text/plain": [
       "2.0866640042581523"
      ]
     },
     "execution_count": 46,
     "metadata": {},
     "output_type": "execute_result"
    }
   ],
   "source": [
    "np.std(B)"
   ]
  },
  {
   "cell_type": "markdown",
   "id": "222365d9",
   "metadata": {},
   "source": [
    "* Standard deviation of peoduct A is 2.273030282830976 and for product B is 2.0866640042581523."
   ]
  },
  {
   "cell_type": "markdown",
   "id": "d5908106",
   "metadata": {},
   "source": [
    "8. Calculate the coefficient of variation for the sales data of Product A. Discuss how this relative measure of dispersion helps in comparing the variability of products with different average sales.\n",
    "\n"
   ]
  },
  {
   "cell_type": "code",
   "execution_count": 50,
   "id": "a62c0cad",
   "metadata": {},
   "outputs": [
    {
     "data": {
      "text/plain": [
       "7.838035458037848"
      ]
     },
     "execution_count": 50,
     "metadata": {},
     "output_type": "execute_result"
    }
   ],
   "source": [
    "(np.std(A)/np.mean(A))*100"
   ]
  },
  {
   "cell_type": "code",
   "execution_count": 51,
   "id": "3d91c1a9",
   "metadata": {},
   "outputs": [
    {
     "data": {
      "text/plain": [
       "5.455330730086673"
      ]
     },
     "execution_count": 51,
     "metadata": {},
     "output_type": "execute_result"
    }
   ],
   "source": [
    "(np.std(B)/np.mean(B))*100"
   ]
  },
  {
   "cell_type": "markdown",
   "id": "e2f4482d",
   "metadata": {},
   "source": [
    "* cov of A is 7.838035458037848 and cov of B is 5.455330730086673."
   ]
  },
  {
   "cell_type": "markdown",
   "id": "f722171a",
   "metadata": {},
   "source": [
    "9. Compute the relative range for Product B. Discuss how the relative range accounts for the scale of the sales data."
   ]
  },
  {
   "cell_type": "code",
   "execution_count": 53,
   "id": "a7e4b3e8",
   "metadata": {},
   "outputs": [
    {
     "data": {
      "text/plain": [
       "0.1830065359477124"
      ]
     },
     "execution_count": 53,
     "metadata": {},
     "output_type": "execute_result"
    }
   ],
   "source": [
    "(np.max(B)-np.min(B))/np.mean(B)"
   ]
  },
  {
   "cell_type": "markdown",
   "id": "55250abf",
   "metadata": {},
   "source": [
    "10. Determine the relative standard deviation for Product A. Interpret the result and discuss its implications for understanding the variability relative to the mean."
   ]
  },
  {
   "cell_type": "code",
   "execution_count": 54,
   "id": "2d63a4e6",
   "metadata": {},
   "outputs": [
    {
     "data": {
      "text/plain": [
       "7.838035458037848"
      ]
     },
     "execution_count": 54,
     "metadata": {},
     "output_type": "execute_result"
    }
   ],
   "source": [
    "(np.std(A)/np.mean(A))*100"
   ]
  },
  {
   "cell_type": "code",
   "execution_count": null,
   "id": "e3d1bbeb",
   "metadata": {},
   "outputs": [],
   "source": []
  }
 ],
 "metadata": {
  "kernelspec": {
   "display_name": "Python 3 (ipykernel)",
   "language": "python",
   "name": "python3"
  },
  "language_info": {
   "codemirror_mode": {
    "name": "ipython",
    "version": 3
   },
   "file_extension": ".py",
   "mimetype": "text/x-python",
   "name": "python",
   "nbconvert_exporter": "python",
   "pygments_lexer": "ipython3",
   "version": "3.11.5"
  }
 },
 "nbformat": 4,
 "nbformat_minor": 5
}
